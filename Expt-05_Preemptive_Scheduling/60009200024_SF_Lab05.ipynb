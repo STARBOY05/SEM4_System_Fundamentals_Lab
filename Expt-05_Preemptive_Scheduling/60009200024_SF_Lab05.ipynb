{
 "cells": [
  {
   "cell_type": "markdown",
   "metadata": {},
   "source": [
    "# NAME: ALISTAIR SALDANHA\n",
    "# SAPID: 60009200024\n",
    "# BATCH: K1\n",
    "# EXPERIMENT-5"
   ]
  },
  {
   "cell_type": "code",
   "execution_count": 9,
   "metadata": {},
   "outputs": [],
   "source": [
    "# processes = [['P1', 0, 7], ['P2', 0, 5], ['P3', 0, 3], ['P4', 0, 1], ['P5',0, 2], ['P6', 0, 1]] \n",
    "processes = [('P1', [0, 7]), ('P2', [0, 5]), ('P3', [0, 3]), ('P4', [0, 1]), ('P5', [0, 2]), ('P6', [0, 1])]\n",
    "processes1 = processes.copy()"
   ]
  },
  {
   "cell_type": "code",
   "execution_count": 10,
   "metadata": {},
   "outputs": [
    {
     "name": "stdout",
     "output_type": "stream",
     "text": [
      "[('P4', [0, 1]), ('P6', [0, 1]), ('P5', [0, 2]), ('P3', [0, 3]), ('P2', [0, 5]), ('P1', [0, 7])]\n",
      "[('P6', [0, 1]), ('P5', [0, 2]), ('P3', [0, 3]), ('P2', [0, 5]), ('P1', [0, 7])]\n",
      "[('P5', [0, 2]), ('P3', [0, 3]), ('P2', [0, 5]), ('P1', [0, 7])]\n",
      "[('P5', [0, 1]), ('P3', [0, 3]), ('P2', [0, 5]), ('P1', [0, 7])]\n",
      "[('P3', [0, 3]), ('P2', [0, 5]), ('P1', [0, 7])]\n",
      "[('P3', [0, 2]), ('P2', [0, 5]), ('P1', [0, 7])]\n",
      "[('P3', [0, 1]), ('P2', [0, 5]), ('P1', [0, 7])]\n",
      "[('P2', [0, 5]), ('P1', [0, 7])]\n",
      "[('P2', [0, 4]), ('P1', [0, 7])]\n",
      "[('P2', [0, 3]), ('P1', [0, 7])]\n",
      "[('P2', [0, 2]), ('P1', [0, 7])]\n",
      "[('P2', [0, 1]), ('P1', [0, 7])]\n",
      "[('P1', [0, 7])]\n",
      "[('P1', [0, 6])]\n",
      "[('P1', [0, 5])]\n",
      "[('P1', [0, 4])]\n",
      "[('P1', [0, 3])]\n",
      "[('P1', [0, 2])]\n",
      "[('P1', [0, 1])]\n",
      "0-->P4-->1-->P6-->2-->P5-->3-->P5-->4-->P3-->5-->P3-->6-->P3-->7-->P2-->8-->P2-->9-->P2-->10-->P2-->11-->P2-->12-->P1-->13-->P1-->14-->P1-->15-->P1-->16-->P1-->17-->P1-->18-->P1-->19"
     ]
    }
   ],
   "source": [
    "def gantt_c(processes1):\n",
    "    counter = 0\n",
    "    ready_queue = []\n",
    "    gantt_chart = []\n",
    "    burst_time = 0\n",
    "    time=0\n",
    "    completed_process = {}\n",
    "\n",
    "    for i in range(len(processes1)):\n",
    "        burst_time += processes1[i][1][1]\n",
    "\n",
    "    gantt_chart.append(0)\n",
    "    while(counter <= burst_time):\n",
    "        for i in range(len(processes1)):\n",
    "            arrival_time = processes1[i][1][0]\n",
    "            if((counter == arrival_time) and (processes1[i] not in ready_queue) and (processes1[i][0] not in completed_process)):\n",
    "                ready_queue.append(processes1[i])\n",
    "        if(len(ready_queue) > 1): # if more than two processes are appended having same arrival time then sort them acc to burst time\n",
    "            ready_queue = sorted(ready_queue, key=lambda x: x[1][1])\n",
    "        gantt_chart.append(ready_queue[0][0])\n",
    "        time += 1\n",
    "        gantt_chart.append(time)\n",
    "        print(ready_queue)\n",
    "        if(ready_queue[0][1][1] > 1):\n",
    "            ready_queue[0][1][1] -= 1  \n",
    "        else:\n",
    "            completion_time[ready_queue[0][0]] = time\n",
    "            ready_queue.pop(0)\n",
    "        if(ready_queue == []):\n",
    "            break\n",
    "        counter += 1\n",
    "    return gantt_chart, completion_time\n",
    "    \n",
    "gantt_chart, completion_time = gantt_c(processes1)\n",
    "completion_time = sorted(completion_time.items(), key=lambda x: x[0])\n",
    "\n",
    "def display_gc(gantt_chart):\n",
    "    for i in range(len(gantt_chart)):\n",
    "        print(f\"{gantt_chart[i]}\", end=\"\")\n",
    "        if(i < len(gantt_chart)-1):\n",
    "            print(\"-->\", end=\"\")\n",
    "display_gc(gantt_chart)"
   ]
  },
  {
   "cell_type": "code",
   "execution_count": 11,
   "metadata": {},
   "outputs": [
    {
     "name": "stdout",
     "output_type": "stream",
     "text": [
      "TAT : [19, 12, 7, 1, 4, 2]\n",
      "WT : [12, 7, 4, 0, 2, 1]\n"
     ]
    }
   ],
   "source": [
    "processes = [('P1', [0, 7]), ('P2', [0, 5]), ('P3', [0, 3]), ('P4', [0, 1]), ('P5', [0, 2]), ('P6', [0, 1])]\n",
    "def calc_TAT(completion_time,processes):\n",
    "    TAT = []\n",
    "    for i in range(len(processes)):\n",
    "        TAT.append(completion_time[i][1] - processes[i][1][0])\n",
    "    return TAT\n",
    "TAT = calc_TAT(completion_time,processes)\n",
    "print(\"TAT :\",TAT)\n",
    "\n",
    "def calc_WT(TAT,processes):\n",
    "    WT = []\n",
    "    for i in range(len(processes)):\n",
    "        WT.append(TAT[i] - processes[i][1][1])\n",
    "    return WT\n",
    "WT = calc_WT(TAT,processes)\n",
    "print(\"WT :\",WT)\n",
    "\n",
    "def avg_WT(WT):\n",
    "    avg_WT = 0.0\n",
    "    for i in range(len(WT)):\n",
    "        avg_WT += WT[i]\n",
    "    avg_WT = (avg_WT/len(WT))\n",
    "    return round(avg_WT,3)\n",
    "average_WT = avg_WT(WT)\n",
    "\n",
    "def avg_TAT(TAT):\n",
    "    avg_TAT = 0.0\n",
    "    for i in range(len(TAT)):\n",
    "        avg_TAT += TAT[i]\n",
    "    avg_TAT = (avg_TAT/len(TAT))\n",
    "    return round(avg_TAT,3)\n",
    "average_TAT = avg_TAT(TAT)"
   ]
  },
  {
   "cell_type": "code",
   "execution_count": 13,
   "metadata": {},
   "outputs": [
    {
     "name": "stdout",
     "output_type": "stream",
     "text": [
      "PROCESSES\tARRIVAL_TIME\tBURST_TIME\tTURNAROUND_TIME\tWAITING_TIME\n",
      "P1\t\t0\t\t7\t\t19\t\t12\n",
      "P2\t\t0\t\t5\t\t12\t\t7\n",
      "P3\t\t0\t\t3\t\t7\t\t4\n",
      "P4\t\t0\t\t1\t\t1\t\t0\n",
      "P5\t\t0\t\t2\t\t4\t\t2\n",
      "P6\t\t0\t\t1\t\t2\t\t1\n",
      "Average Waiting Time: 4.333\n"
     ]
    }
   ],
   "source": [
    "# def table(processes):\n",
    "#     x.field_names = [\"Process\",\"AT\",\"BT\",\"FT\",\"TAT\",\"WT\"]\n",
    "#     for i in range(len(processes)):\n",
    "#         x.add_row([f\"P{i+1}\",processes[i][1][0],processes[i][1][1], completion_time[i][1],TAT[i],WT[i]])\n",
    "#     print(x)\n",
    "\n",
    "# table(processes) \n",
    "print(\"PROCESSES\\tARRIVAL_TIME\\tBURST_TIME\\tTURNAROUND_TIME\\tWAITING_TIME\")\n",
    "for i in range(len(processes)):\n",
    "    print(f\"{processes[i][0]}\\t\\t{processes[i][1][0]}\\t\\t{processes[i][1][1]}\\t\\t{TAT[i]}\\t\\t{WT[i]}\")\n",
    "print(f\"Average Waiting Time: {average_WT}\")"
   ]
  },
  {
   "cell_type": "code",
   "execution_count": null,
   "metadata": {},
   "outputs": [],
   "source": [
    "def round_robin(process, TS):\n",
    "    arrival = process[0]\n",
    "    burst = process[1]\n",
    "    n = len(burst)\n",
    "    \n",
    "    # Sort wrt Arrival\n",
    "    for i in range(len(arrival)):\n",
    "        for j in range(len(arrival)-i-1):\n",
    "            if arrival[j] > arrival[j+1]:\n",
    "                arrival[j], arrival[j+1] = arrival[j+1], arrival[j]\n",
    "                burst[j], burst[j+1] = burst[j+1], burst[j]\n",
    "    \n",
    "    burst_copy = burst.copy()\n",
    "    # Gantt chart and Process\n",
    "    burst_sum = [0]\n",
    "    max_time = 0\n",
    "    for i in range(len(burst)):\n",
    "        max_time += burst[i]\n",
    "    \n",
    "    x = 0\n",
    "    val = 0\n",
    "    while(1):\n",
    "      if(x>2):\n",
    "        x = 0\n",
    "      if(burst_copy[x]<TS):\n",
    "        val += burst_copy[x]\n",
    "        burst_copy[x] = 0\n",
    "        burst_sum.append(val)\n",
    "      else:\n",
    "        val += TS\n",
    "        burst_copy[x] = burst_copy[x] - 2\n",
    "        burst_sum.append(val)\n",
    "      x += 1\n",
    "      res = all(ele == 0 for ele in burst_copy)  \n",
    "      if(res):\n",
    "        break   \n",
    "    burst_sum = list(set(burst_sum))\n",
    "    print(f'Gantt Chart: {burst_sum}\\n') \n",
    "\n",
    "    wt = [0] * n\n",
    "    tat = [0] * n\n",
    "    rem_bt = [0] * n\n",
    " \n",
    "    # Copy the burst time into rt[]\n",
    "    for i in range(n):\n",
    "        rem_bt[i] = burst[i]\n",
    "    t = 0 # Current time\n",
    "\n",
    "    while(1):\n",
    "      done = True\n",
    "      for i in range(n):\n",
    "        if (rem_bt[i] > 0) :\n",
    "          done = False # There is a pending process\n",
    "            \n",
    "          if (rem_bt[i] > TS) :\n",
    "              t += TS\n",
    "              rem_bt[i] -= TS\n",
    "          else:\n",
    "              t = t + rem_bt[i]\n",
    "              wt[i] = t - burst[i]\n",
    "              rem_bt[i] = 0\n",
    "                \n",
    "      # If all processes are done\n",
    "      if (done == True):\n",
    "          break\n",
    " \n",
    "    for i in range(n):\n",
    "        tat[i] = burst[i] + wt[i]\n",
    " \n",
    "    print(\"Processes    Burst Time     Waiting\",\"Time    Turn-Around Time\")\n",
    "    total_wt = 0\n",
    "    total_tat = 0\n",
    "    for i in range(n):\n",
    " \n",
    "        total_wt = total_wt + wt[i]\n",
    "        total_tat = total_tat + tat[i]\n",
    "        print(\" \", i + 1, \"\\t\\t\", burst[i],\n",
    "              \"\\t\\t\", wt[i], \"\\t\\t\", tat[i])\n",
    " \n",
    "    print(\"\\nAverage waiting time = %.2f \"%(total_wt -sum(arrival) /n) )\n",
    "    print(\"Average turn around time = %.2f \"% (total_tat - sum(arrival) / n))"
   ]
  },
  {
   "cell_type": "code",
   "execution_count": null,
   "metadata": {},
   "outputs": [
    {
     "name": "stdout",
     "output_type": "stream",
     "text": [
      "Round Robin Algorithm\n",
      "Gantt Chart: [0, 3, 6, 9, 12, 14, 17, 20, 23, 26, 29, 30, 31]\n",
      "\n",
      "Processes    Burst Time     Waiting Time    Turn-Around Time\n",
      "  1 \t\t 9 \t\t 10 \t\t 19\n",
      "  2 \t\t 4 \t\t 9 \t\t 13\n",
      "  3 \t\t 9 \t\t 13 \t\t 22\n",
      "\n",
      "Average waiting time = 32.00 \n",
      "Average turn around time = 54.00 \n"
     ]
    }
   ],
   "source": [
    "process = [[0,0,0], [9,4,9]]\n",
    "TS = 3\n",
    "print('Round Robin Algorithm')\n",
    "round_robin(process, TS)"
   ]
  }
 ],
 "metadata": {
  "interpreter": {
   "hash": "4224c07f2c26d2b181a3d230e7d21b307217e0bfdd4c548a04fa249d27ef3c76"
  },
  "kernelspec": {
   "display_name": "Python 3.9.7 ('base')",
   "language": "python",
   "name": "python3"
  },
  "language_info": {
   "codemirror_mode": {
    "name": "ipython",
    "version": 3
   },
   "file_extension": ".py",
   "mimetype": "text/x-python",
   "name": "python",
   "nbconvert_exporter": "python",
   "pygments_lexer": "ipython3",
   "version": "3.9.7"
  },
  "orig_nbformat": 4
 },
 "nbformat": 4,
 "nbformat_minor": 2
}
