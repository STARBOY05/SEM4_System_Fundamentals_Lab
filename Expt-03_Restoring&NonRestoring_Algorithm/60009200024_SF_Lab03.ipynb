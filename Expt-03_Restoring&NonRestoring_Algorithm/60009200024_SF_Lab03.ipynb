{
 "cells": [
  {
   "cell_type": "markdown",
   "metadata": {},
   "source": [
    "# NAME: ALISTAIR SHAAN SALDANHA\n",
    "# SAPID: 60009200024\n",
    "# BRANCH: DATA SCIENCE\n",
    "# BATCH: K1"
   ]
  },
  {
   "cell_type": "markdown",
   "metadata": {},
   "source": [
    "# Restoring Division"
   ]
  },
  {
   "cell_type": "code",
   "execution_count": 1,
   "metadata": {},
   "outputs": [],
   "source": [
    "def to_binary(num):\n",
    "  if(num >= 0):\n",
    "    return(bin(num)[2:].zfill(n+1)) #[2:] - to remove 0b\n",
    "  elif(num < 0):\n",
    "    return (bin(abs(num))[2:].zfill(n+1))\n",
    "# print(to_binary(9))\n",
    "# print(to_binary(-2))"
   ]
  },
  {
   "cell_type": "markdown",
   "metadata": {},
   "source": [
    "ADDING TWO BINARY NUMBERS"
   ]
  },
  {
   "cell_type": "code",
   "execution_count": 2,
   "metadata": {},
   "outputs": [
    {
     "data": {
      "text/plain": [
       "'11101'"
      ]
     },
     "execution_count": 2,
     "metadata": {},
     "output_type": "execute_result"
    }
   ],
   "source": [
    "def add(x1, x2, n):\n",
    "  result = ''\n",
    "  carry = 0\n",
    "  for i in range(n, -1, -1):\n",
    "      carry += 1 if x1[i] == '1' else 0\n",
    "      carry += 1 if x2[i] == '1' else 0\n",
    "      result = ('1' if carry % 2 == 1 else '0') + result\n",
    "      carry = 0 if carry < 2 else 1\n",
    "  return(result.zfill(n))\n",
    "add('11100','00001',4)"
   ]
  },
  {
   "cell_type": "markdown",
   "metadata": {},
   "source": [
    "TWO'S COMPLEMENT"
   ]
  },
  {
   "cell_type": "code",
   "execution_count": 3,
   "metadata": {},
   "outputs": [
    {
     "name": "stdout",
     "output_type": "stream",
     "text": [
      "11101\n"
     ]
    }
   ],
   "source": [
    "def twos_comp(num,n):\n",
    "  x = ''\n",
    "  one_add = '0'*(n)+'1' \n",
    "  one_c = map(lambda x: '0' if x=='1' else '1',num) # 00011 --> 11100\n",
    "  for i in one_c:\n",
    "    x += i \n",
    "  two_c = add(x,one_add,n)\n",
    "  return two_c\n",
    "print(twos_comp('00011',4))"
   ]
  },
  {
   "cell_type": "markdown",
   "metadata": {},
   "source": [
    "SHIFT LEFT"
   ]
  },
  {
   "cell_type": "code",
   "execution_count": 4,
   "metadata": {},
   "outputs": [],
   "source": [
    "def shl(bits):\n",
    "    x = bits[0]\n",
    "    shift_bits = bin(int(('0b' + bits),2) << 1)[2:] # using the left right operator (advantage in string operations)\n",
    "    bits = shift_bits.zfill(2*n+1)[:-1]  # zfill() is used to fill the starting places with 0s\n",
    "    return bits\n",
    "# print(shl('0101'))\n",
    "# print(shl('0000010001'))"
   ]
  },
  {
   "cell_type": "markdown",
   "metadata": {},
   "source": [
    "DISPLAY THE CALCULATION TABLE"
   ]
  },
  {
   "cell_type": "code",
   "execution_count": 5,
   "metadata": {},
   "outputs": [],
   "source": [
    "def table(bits,count,oper,n): # Display Function\n",
    "    A = bits[:n+1]\n",
    "    q_bin = bits[n+1:]\n",
    "    print(f'  {count}     {A}   {q_bin}  {oper}')"
   ]
  },
  {
   "cell_type": "code",
   "execution_count": 6,
   "metadata": {},
   "outputs": [],
   "source": [
    "def RestoringDiv(bits,count,n):\n",
    "    # SHIFT LEFT\n",
    "    A = bits[:n+1]\n",
    "    q_bin = bits[n+1:2*n+1]\n",
    "    bits = shl(bits)\n",
    "    # print(f\"Shift Left: {bits}\")\n",
    "    table(bits,count,'   Shift Left',n)\n",
    "    # A = A - M\n",
    "    A = bits[:n+1]\n",
    "    q_bin = bits[n+1:2*n+1]\n",
    "    A = add(A,minus_M,n)\n",
    "    # print(f'A: {A}')\n",
    "    # print(f'q_bin:{q_bin}')\n",
    "    # CHECK\n",
    "    if(A[0] == '0'):\n",
    "        q_bin = q_bin + '1'\n",
    "        bits = A + q_bin\n",
    "        table(bits,count,'  A=A-M',n)\n",
    "    else:\n",
    "        q_bin = q_bin + '0'\n",
    "        bits = A + q_bin\n",
    "        table(bits,count,'  A=A-M',n)\n",
    "        A = add(A,plus_M,n)\n",
    "        bits = A + q_bin\n",
    "        table(bits,count,'  A=A+M(Restore)',n)\n",
    "    count -= 1\n",
    "    if(count > 0):\n",
    "        RestoringDiv(bits,count,n)\n",
    "    else:\n",
    "        A = bits[:n+1]\n",
    "        q_bin = bits[n+1:2*n+1]\n",
    "        print(f'A: {A}, Q: {q_bin}')\n",
    "        remainder = int(('0b' + A),2)\n",
    "        quotient = int(('0b' + q_bin),2)\n",
    "        print(f\"Remainder: {remainder} , Quotient: {quotient}\")"
   ]
  },
  {
   "cell_type": "markdown",
   "metadata": {},
   "source": [
    "RESTORING DIVISION ALGORITHM"
   ]
  },
  {
   "cell_type": "code",
   "execution_count": 7,
   "metadata": {},
   "outputs": [
    {
     "name": "stdout",
     "output_type": "stream",
     "text": [
      "-----------RESTORING DIVISION-----------\n",
      "\n",
      "count     A      q      Operation\n",
      "  4     00000   0100    Initialisation\n",
      "  4     00000   100     Shift Left\n",
      "  4     11110   1000    A=A-M\n",
      "  4     00000   1000    A=A+M(Restore)\n",
      "  3     00001   000     Shift Left\n",
      "  3     11111   0000    A=A-M\n",
      "  3     00001   0000    A=A+M(Restore)\n",
      "  2     00010   000     Shift Left\n",
      "  2     00000   0001    A=A-M\n",
      "  1     00000   001     Shift Left\n",
      "  1     11110   0010    A=A-M\n",
      "  1     00000   0010    A=A+M(Restore)\n",
      "A: 00000, Q: 0010\n",
      "Remainder: 0 , Quotient: 2\n"
     ]
    }
   ],
   "source": [
    "# Check for m and q and accordingly get +M,-M,Q\n",
    "q = 4 # Dividend\n",
    "m = 2  # Divisor\n",
    "n = 4  # Number of bits\n",
    "\n",
    "# M - +ve Q - +ve \n",
    "if(m>0 and q>0):\n",
    "    plus_M = to_binary(m)\n",
    "    minus_M = twos_comp(plus_M,n)\n",
    "    x = list(to_binary(q))\n",
    "    q_bin = ''\n",
    "    if(x[0] == '0'):\n",
    "        del x[0]\n",
    "    for i in x:\n",
    "        q_bin += i\n",
    "A = '0'*(n+1)\n",
    "count=n\n",
    "\n",
    "# Trace the table\n",
    "print(\"-----------RESTORING DIVISION-----------\\n\")\n",
    "print('count  ','  A  ','   q  ','   Operation')\n",
    "\n",
    "# Initialisation\n",
    "bits = A + q_bin\n",
    "# print(bits)\n",
    "table(bits,count,'  Initialisation',n)\n",
    "RestoringDiv(bits,count,n)"
   ]
  },
  {
   "cell_type": "markdown",
   "metadata": {},
   "source": [
    "# NAME: ALISTAIR SHAAN SALDANHA\n",
    "# SAPID: 60009200024\n",
    "# BRANCH: DATA SCIENCE\n",
    "# BATCH: K1"
   ]
  },
  {
   "cell_type": "markdown",
   "metadata": {},
   "source": [
    "# Non Restoring Division"
   ]
  },
  {
   "cell_type": "code",
   "execution_count": 8,
   "metadata": {},
   "outputs": [],
   "source": [
    "# Check for m and q and accordingly get +M,-M,Q\n",
    "q = 10 # Dividend\n",
    "m = 3  # Divisor\n",
    "count = n = 4  # Number of bits\n",
    "\n",
    "A = '0'*(n+1)"
   ]
  },
  {
   "cell_type": "markdown",
   "metadata": {},
   "source": [
    "CONVERSION INTO BINARY"
   ]
  },
  {
   "cell_type": "code",
   "execution_count": 9,
   "metadata": {},
   "outputs": [],
   "source": [
    "def to_binary(num):\n",
    "  if(num >= 0):\n",
    "    return(bin(num)[2:].zfill(n+1)) #[2:] - to remove 0b\n",
    "  elif(num < 0):\n",
    "    return (bin(abs(num))[2:].zfill(n+1))\n",
    "# print(to_binary(9))\n",
    "# print(to_binary(-2))"
   ]
  },
  {
   "cell_type": "markdown",
   "metadata": {},
   "source": [
    "ADDING TWO BINARY NUMBERS"
   ]
  },
  {
   "cell_type": "code",
   "execution_count": 10,
   "metadata": {},
   "outputs": [],
   "source": [
    "def add(x1, x2, n):\n",
    "  result = ''\n",
    "  carry = 0\n",
    "  for i in range(n, -1, -1):\n",
    "      carry += 1 if x1[i] == '1' else 0\n",
    "      carry += 1 if x2[i] == '1' else 0\n",
    "      result = ('1' if carry % 2 == 1 else '0') + result\n",
    "      carry = 0 if carry < 2 else 1\n",
    "  return(result.zfill(n))\n",
    "# add('11100','00001',n)"
   ]
  },
  {
   "cell_type": "markdown",
   "metadata": {},
   "source": [
    "TWO'S COMPLEMENT"
   ]
  },
  {
   "cell_type": "code",
   "execution_count": 11,
   "metadata": {},
   "outputs": [],
   "source": [
    "def twos_comp(num,n):\n",
    "  x = ''\n",
    "  one_add = '0'*(n)+'1' \n",
    "  one_c = map(lambda x: '0' if x=='1' else '1',num) # 00011 --> 11100\n",
    "  for i in one_c:\n",
    "    x += i \n",
    "  two_c = add(x,one_add,n)\n",
    "  return two_c\n",
    "# print(twos_comp('00011',n))"
   ]
  },
  {
   "cell_type": "markdown",
   "metadata": {},
   "source": [
    "SHIFT LEFT"
   ]
  },
  {
   "cell_type": "code",
   "execution_count": 12,
   "metadata": {},
   "outputs": [
    {
     "name": "stdout",
     "output_type": "stream",
     "text": [
      "['1', '0', '0', '0', '1', '0', '0', '0', '0']\n",
      "00010000\n"
     ]
    }
   ],
   "source": [
    "def shl(bits):\n",
    "    bit_list=[]\n",
    "    bit_list[:]=bits #:0 change\n",
    "    print(bit_list)\n",
    "    for i in range(0, len(bit_list)-1):\n",
    "        bit_list[i] = bit_list[i+1]\n",
    "    del bit_list[-1]\n",
    "    bits = ''\n",
    "    for i in bit_list:\n",
    "        bits += i\n",
    "    return bits\n",
    "bits = '100010000'\n",
    "print(shl(bits))"
   ]
  },
  {
   "cell_type": "markdown",
   "metadata": {},
   "source": [
    "DISPLAY THE CALCULATION TABLE"
   ]
  },
  {
   "cell_type": "code",
   "execution_count": 13,
   "metadata": {},
   "outputs": [],
   "source": [
    "def table(bits,count,oper,n): # Display Function\n",
    "    A = bits[:n+1]\n",
    "    q_bin = bits[n+1:]\n",
    "    print(f'  {count}     {A}   {q_bin} {oper}')"
   ]
  },
  {
   "cell_type": "markdown",
   "metadata": {},
   "source": [
    "NON RESTORING DIVISION ALGORITHM"
   ]
  },
  {
   "cell_type": "code",
   "execution_count": 14,
   "metadata": {},
   "outputs": [],
   "source": [
    "def NonRestoringDiv(bits,count,n):\n",
    "    A = bits[:n+1]\n",
    "    q_bin = bits[n+1:]\n",
    "    if(A[0] == '0'):\n",
    "        bits = A + q_bin\n",
    "        bits = shl(bits)\n",
    "        table(bits,count,'    Shift Left',n)\n",
    "        A = bits[:n+1]\n",
    "        q_bin = bits[n+1:]\n",
    "        A = add(A,minus_M,n)\n",
    "        if(A[0] == '1'):\n",
    "            q_bin = q_bin + '0'\n",
    "            bits = A + q_bin\n",
    "            table(bits,count,'   A = A - M',n)\n",
    "        else:\n",
    "            q_bin = q_bin + '1'\n",
    "            bits = A + q_bin\n",
    "            table(bits,count,'   A = A - M',n)\n",
    "    else:\n",
    "        bits = A + q_bin\n",
    "        bits = shl(bits)\n",
    "        table(bits,count,'    Shift Left',n)\n",
    "        A = bits[:n+1]\n",
    "        q_bin = bits[n+1:]\n",
    "        A = add(A,plus_M,n)\n",
    "        if(A[0] == '1'):\n",
    "            q_bin = q_bin + '0'\n",
    "            bits = A + q_bin\n",
    "            table(bits,count,'   A = A + M',n)\n",
    "        else:\n",
    "            q_bin = q_bin + '1'\n",
    "            bits = A + q_bin\n",
    "            table(bits,count,'   A = A + M',n)\n",
    "    count -= 1\n",
    "    if(count > 0):\n",
    "        NonRestoringDiv(bits,count,n)\n",
    "    else:\n",
    "        A = bits[:n+1]\n",
    "        q_bin = bits[n+1:]\n",
    "        if(A[0] == '1'):\n",
    "            A = add(A,plus_M,n)\n",
    "            bits = A + q_bin\n",
    "        A = bits[:n+1]\n",
    "        q_bin = bits[n+1:2*n+1]\n",
    "        print(f'A: {A}, Q: {q_bin}')\n",
    "        remainder = int(('0b' + A),2)\n",
    "        quotient = int(('0b' + q_bin),2)\n",
    "        print(f\"Remainder: {remainder} , Quotient: {quotient}\")"
   ]
  },
  {
   "cell_type": "markdown",
   "metadata": {},
   "source": [
    "INPUT"
   ]
  },
  {
   "cell_type": "code",
   "execution_count": 15,
   "metadata": {},
   "outputs": [
    {
     "name": "stdout",
     "output_type": "stream",
     "text": [
      "\n",
      "-----------NON RESTORING DIVISION-----------\n",
      "\n",
      "count     A      q       Operation\n",
      "  4     00000   1100    Initialisation\n",
      "['0', '0', '0', '0', '0', '1', '1', '0', '0']\n",
      "  4     00001   100     Shift Left\n",
      "  4     11110   1000    A = A - M\n",
      "['1', '1', '1', '1', '0', '1', '0', '0', '0']\n",
      "  3     11101   000     Shift Left\n",
      "  3     00000   0001    A = A + M\n",
      "['0', '0', '0', '0', '0', '0', '0', '0', '1']\n",
      "  2     00000   001     Shift Left\n",
      "  2     11101   0010    A = A - M\n",
      "['1', '1', '1', '0', '1', '0', '0', '1', '0']\n",
      "  1     11010   010     Shift Left\n",
      "  1     11101   0100    A = A + M\n",
      "A: 00000, Q: 0100\n",
      "Remainder: 0 , Quotient: 4\n"
     ]
    }
   ],
   "source": [
    "# Check for m and q and accordingly get +M,-M,Q\n",
    "q = 12 # Dividend\n",
    "m = 3  # Divisor\n",
    "count = n = 4  # Number of bits\n",
    "A = '0'*(n+1)\n",
    "\n",
    "# M - +ve Q - +ve \n",
    "if(m>=0 and q>=0):\n",
    "    plus_M = to_binary(m)\n",
    "    minus_M = twos_comp(plus_M,n)\n",
    "    # While converting q in binary\n",
    "    x = list(to_binary(q))\n",
    "    q_bin = ''\n",
    "    if(x[0] == '0'):\n",
    "        del x[0]\n",
    "    for i in x:\n",
    "        q_bin += i\n",
    "\n",
    "# Trace the table\n",
    "print(\"\\n-----------NON RESTORING DIVISION-----------\\n\")\n",
    "print('count  ','  A  ','   q  ','    Operation')\n",
    "\n",
    "# Initialisation\n",
    "bits = A + q_bin\n",
    "# print(bits)\n",
    "table(bits,count,'   Initialisation',n)\n",
    "NonRestoringDiv(bits,count,n)"
   ]
  }
 ],
 "metadata": {
  "interpreter": {
   "hash": "4224c07f2c26d2b181a3d230e7d21b307217e0bfdd4c548a04fa249d27ef3c76"
  },
  "kernelspec": {
   "display_name": "Python 3.9.7 ('base')",
   "language": "python",
   "name": "python3"
  },
  "language_info": {
   "codemirror_mode": {
    "name": "ipython",
    "version": 3
   },
   "file_extension": ".py",
   "mimetype": "text/x-python",
   "name": "python",
   "nbconvert_exporter": "python",
   "pygments_lexer": "ipython3",
   "version": "3.9.7"
  },
  "orig_nbformat": 4
 },
 "nbformat": 4,
 "nbformat_minor": 2
}
