{
 "cells": [
  {
   "cell_type": "markdown",
   "metadata": {},
   "source": [
    "# NAME: ALISTAIR SALDANHA\n",
    "# SAPID: 60009200024\n",
    "# BATCH: K1\n",
    "# EXPERIMENT-7"
   ]
  },
  {
   "cell_type": "code",
   "execution_count": 6,
   "metadata": {},
   "outputs": [
    {
     "name": "stdout",
     "output_type": "stream",
     "text": [
      "Reference String: [1, 3, 0, 3, 5, 6]\n",
      "String|Frame →\t0 1 2 Fault\n",
      "   ↓\n",
      "\n",
      "   1\t\t1      M\n",
      "   3\t\t1 3    M\n",
      "   0\t\t1 3 0  M\n",
      "   3\t\t1 3 0  H\n",
      "   5\t\t5 3 0  M\n",
      "   6\t\t5 6 0  M\n",
      "\n",
      "Total requests: 6\n",
      "Total Page Hits: 1\n",
      "Hit Rate: 16.67%\n"
     ]
    }
   ],
   "source": [
    "# FIFO REPLACEMENT\n",
    "capacity = int(input(\"Enter the number of frames: \"))\n",
    "current_col, fault_count, hit_count, front, page_fault = [], 0, 0, 0,'M'\n",
    "s = [1, 3, 0, 3, 5, 6]\n",
    "print(f\"Reference String: {s}\",end=\"\") # WITH SPACES\n",
    "print(\"\\nString|Frame →\\t\",end='')\n",
    "for i in range(capacity):\n",
    "    print(i,end=' ')\n",
    "print(\"Fault\\n   ↓\\n\")\n",
    "for i in s:\n",
    "    if i not in current_col:\n",
    "        if len(current_col)<capacity: # ALL FRAMES NOT FILLED\n",
    "            current_col.append(i)\n",
    "        # ALL FRAMES FILLED\n",
    "        else: \n",
    "            current_col[front] = i # FIFO TECHNIQUE\n",
    "            front = (front+1)%capacity # IF FRONT BECOMES 3 THEN MAKE FRONT = 0\n",
    "        fault_count += 1\n",
    "        page_fault = 'M'\n",
    "    else:\n",
    "        # CURRENT PAGE MATCHES WITH FRAME PAGES THEN HIT\n",
    "        hit_count += 1\n",
    "        page_fault = 'H'\n",
    "    print(f\"   {i}\\t\\t\",end='')\n",
    "    for x in current_col:\n",
    "        print(x,end=' ')\n",
    "    for x in range(capacity-len(current_col)):\n",
    "        print(' ',end=' ')\n",
    "    print(f\" {page_fault}\")\n",
    "print(f\"\\nTotal requests: {len(s)}\\nTotal Page Hits: {hit_count}\\nHit Rate: {round((hit_count/len(s)*100) ,2)}%\")"
   ]
  },
  {
   "cell_type": "code",
   "execution_count": 8,
   "metadata": {},
   "outputs": [
    {
     "name": "stdout",
     "output_type": "stream",
     "text": [
      "\n",
      "String|Frame →\t0 1 2 3 Fault\n",
      "   ↓\n",
      "   7\t\t7        M\n",
      "   0\t\t7 0      M\n",
      "   1\t\t7 0 1    M\n",
      "   2\t\t7 0 1 2  M\n",
      "   0\t\t7 0 1 2  H\n",
      "   3\t\t3 0 1 2  M\n",
      "   0\t\t3 0 1 2  H\n",
      "   4\t\t3 0 4 2  M\n",
      "   2\t\t3 0 4 2  H\n",
      "   3\t\t3 0 4 2  H\n",
      "   0\t\t3 0 4 2  H\n",
      "   3\t\t3 0 4 2  H\n",
      "   2\t\t3 0 4 2  H\n",
      "\n",
      "Total Requests: 13\n",
      "Total Page Faults: 6\n",
      "Fault Rate: 46.15%\n"
     ]
    }
   ],
   "source": [
    "# LEAST RECENTLY USED REPLACEMENT\n",
    "capacity = int(input(\"Enter the number of frames: \"))\n",
    "current_col,st,fault_count,page_fault = [],[],0,'M'\n",
    "# print(\"Enter the reference string: \",end=\"\")\n",
    "s = [7, 0, 1, 2, 0, 3, 0, 4, 2, 3, 0, 3, 2]\n",
    "print(\"\\nString|Frame →\\t\",end='')\n",
    "for i in range(capacity):\n",
    "    print(i,end=' ')\n",
    "print(\"Fault\\n   ↓\")\n",
    "for i in s:\n",
    "    if i not in current_col:\n",
    "        if len(current_col)<capacity:\n",
    "            current_col.append(i)\n",
    "            st.append(len(current_col)-1)\n",
    "        else:\n",
    "            ind = st.pop(0)\n",
    "            current_col[ind] = i\n",
    "            st.append(ind)\n",
    "        page_fault = 'M'\n",
    "        fault_count += 1\n",
    "    else:\n",
    "        st.append(st.pop(st.index(current_col.index(i))))\n",
    "        page_fault = 'H'\n",
    "    print(\"   %d\\t\\t\"%i,end='')\n",
    "    for x in current_col:\n",
    "        print(x, end=' ')\n",
    "    for x in range(capacity-len(current_col)):\n",
    "        print(' ',end=' ')\n",
    "    print(\" %s\"%page_fault)\n",
    "print(\"\\nTotal Requests: %d\\nTotal Page Faults: %d\\nFault Rate: %0.2f%%\"%(len(s),fault_count,(fault_count/len(s))*100))"
   ]
  },
  {
   "cell_type": "code",
   "execution_count": 3,
   "metadata": {},
   "outputs": [
    {
     "name": "stdout",
     "output_type": "stream",
     "text": [
      "Enter the number of frames: Enter the reference string: \n",
      "String|Frame →\t0 1 2 3 Fault\n",
      "   ↓\n",
      "\n",
      "   1\t\t1        M\n",
      "   2\t\t1 2      M\n",
      "   3\t\t1 2 3    M\n",
      "   4\t\t1 2 3 4  M\n",
      "   5\t\t1 2 3 5  M\n",
      "   1\t\t1 2 3 5  H\n",
      "   3\t\t1 2 3 5  H\n",
      "   1\t\t1 2 3 5  H\n",
      "   6\t\t6 2 3 5  M\n",
      "   3\t\t6 2 3 5  H\n",
      "   2\t\t6 2 3 5  H\n",
      "   3\t\t6 2 3 5  H\n",
      "\n",
      "Total requests: 12\n",
      "Total Page Faults: 6\n",
      "Fault Rate: 50.00%\n"
     ]
    }
   ],
   "source": [
    "print(\"Enter the number of frames: \",end=\"\")\n",
    "capacity = int(input())\n",
    "current_col,fault_count,page_fault = [],0,'H'\n",
    "print(\"Enter the reference string: \",end=\"\")\n",
    "s = list(map(int,input().strip().split()))\n",
    "print(\"\\nString|Frame →\\t\",end='')\n",
    "for i in range(capacity):\n",
    "    print(i,end=' ')\n",
    "print(\"Fault\\n   ↓\\n\")\n",
    "occurance = [None for i in range(capacity)]\n",
    "for i in range(len(s)):\n",
    "    if s[i] not in current_col:\n",
    "        if len(current_col)<capacity:\n",
    "            current_col.append(s[i])\n",
    "        else:\n",
    "            for x in range(len(current_col)):\n",
    "                if current_col[x] not in s[i+1:]:\n",
    "                    current_col[x] = s[i]\n",
    "                    break\n",
    "                else:\n",
    "                    occurance[x] = s[i+1:].index(current_col[x])\n",
    "            else:\n",
    "                current_col[occurance.index(max(occurance))] = s[i]\n",
    "        fault_count += 1\n",
    "        page_fault = 'M'\n",
    "    else:\n",
    "        page_fault = 'H'\n",
    "    print(\"   %d\\t\\t\"%s[i],end='')\n",
    "    for x in current_col:\n",
    "        print(x,end=' ')\n",
    "    for x in range(capacity-len(current_col)):\n",
    "        print(' ',end=' ')\n",
    "    print(\" %s\"%page_fault)\n",
    "print(\"\\nTotal requests: %d\\nTotal Page Faults: %d\\nFault Rate: %0.2f%%\"%(len(s),fault_count,(fault_count/len(s))*100))"
   ]
  }
 ],
 "metadata": {
  "interpreter": {
   "hash": "4224c07f2c26d2b181a3d230e7d21b307217e0bfdd4c548a04fa249d27ef3c76"
  },
  "kernelspec": {
   "display_name": "Python 3.9.7 ('base')",
   "language": "python",
   "name": "python3"
  },
  "language_info": {
   "codemirror_mode": {
    "name": "ipython",
    "version": 3
   },
   "file_extension": ".py",
   "mimetype": "text/x-python",
   "name": "python",
   "nbconvert_exporter": "python",
   "pygments_lexer": "ipython3",
   "version": "3.9.7"
  },
  "orig_nbformat": 4
 },
 "nbformat": 4,
 "nbformat_minor": 2
}
