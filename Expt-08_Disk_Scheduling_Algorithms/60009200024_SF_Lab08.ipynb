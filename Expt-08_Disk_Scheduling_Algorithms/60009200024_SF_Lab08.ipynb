{
  "cells": [
    {
      "cell_type": "markdown",
      "metadata": {},
      "source": [
        "# NAME: ALISTAIR SALDANHA\n",
        "# SAPID: 60009200024\n",
        "# BATCH: K1\n",
        "# EXPERIMENT-8"
      ]
    },
    {
      "cell_type": "markdown",
      "metadata": {
        "id": "zNHm091AMwT7"
      },
      "source": [
        "# FCFS"
      ]
    },
    {
      "cell_type": "code",
      "execution_count": 1,
      "metadata": {
        "id": "4571ExE0Moqn"
      },
      "outputs": [],
      "source": [
        "def FCFS(req, head_start):\n",
        "  req.insert(0, head_start)\n",
        "  seek_time = 0\n",
        "  print(req)\n",
        "  for i in range(len(req)-1):\n",
        "    print(f\"Going for: ({req[i+1]} - {req[i]})\")\n",
        "    seek_time += abs(req[i+1] - req[i])\n",
        "  print(f\"Seek Time for FCFS is: {seek_time} ms\")"
      ]
    },
    {
      "cell_type": "markdown",
      "metadata": {
        "id": "J1R8lsxGPSn7"
      },
      "source": [
        "# SSTF"
      ]
    },
    {
      "cell_type": "code",
      "execution_count": 2,
      "metadata": {
        "colab": {
          "base_uri": "https://localhost:8080/"
        },
        "id": "DZ_gx-BhOPFu",
        "outputId": "2b0b485f-3085-43b2-8731-0a7310c29b97"
      },
      "outputs": [],
      "source": [
        "def SSTF(req, head_start):\n",
        "  # Initialise seek time to 0\n",
        "  seek_time=0\n",
        "  # Append the head_start and sort the list in order to find nearest to headstart quickly.\n",
        "  req.append(head_start)\n",
        "  req.sort()\n",
        "  print(req)\n",
        "  # i for left iteration, j for right iteration, k for current working process\n",
        "  k = req.index(head_start)\n",
        "  i = k-1\n",
        "  j = k+1\n",
        "  # Run the loop until i reaches the 0th index or j reaches the last index of req\n",
        "  while(i >= 0 or j != len(req)):\n",
        "    # Calculate both the absolute values of numbers nearest to curr process and find minimum\n",
        "    temp1 = abs(req[i] - req[k])\n",
        "    temp2 = abs(req[j] - req[k])\n",
        "    if(temp1 < temp2):\n",
        "      print(f\"Going for: ({req[i]} - {req[k]})\")\n",
        "      # Adding in seek time\n",
        "      seek_time += temp1\n",
        "      # change k pointer\n",
        "      k = req.index(req[i])\n",
        "      # Decrement i\n",
        "      i-=1\n",
        "    else:\n",
        "      print(f\"Going for: ({req[j]} - {req[k]})\")\n",
        "      seek_time += temp2\n",
        "      # change k pointer\n",
        "      k = req.index(req[j])\n",
        "      # Decrement j\n",
        "      j+=1\n",
        "  print(f\"Seek Time for SSTF is: {seek_time} ms\")"
      ]
    },
    {
      "cell_type": "markdown",
      "metadata": {},
      "source": [
        "# SCAN"
      ]
    },
    {
      "cell_type": "code",
      "execution_count": 3,
      "metadata": {},
      "outputs": [],
      "source": [
        "# If initial direction is given then move in that direction else check for nearest endpoint from headstart\n",
        "def SCAN(req, head_start):\n",
        "  # Initialise seek time to 0\n",
        "  seek_time=0\n",
        "  # Append the head_start and sort the list in order to find nearest to headstart quickly.\n",
        "  req.append(head_start)\n",
        "  req.sort()\n",
        "  # Extra Points to add (0, 199)\n",
        "  req.insert(0, 0)\n",
        "  print(req)\n",
        "  # i and j for iteration, k for current working process\n",
        "  k = req.index(head_start)\n",
        "  i = k-1\n",
        "  j = k+1\n",
        "  # Run the loop until i reaches the 0th index\n",
        "  while(i >= 0):\n",
        "    seek_time += abs(req[i] - req[k])\n",
        "    print(f\"Going for: ({req[i]} - {req[k]})\")\n",
        "    # k = req.index(req[i])\n",
        "    k = req.index(req[i])\n",
        "    i-=1\n",
        "  # Once left iteration is completed\n",
        "  # Run the loop until j reaches the last index of req\n",
        "  while(j!=len(req)):\n",
        "    seek_time += abs(req[j] - req[k])\n",
        "    print(f\"Going for: ({req[j]} - {req[k]})\")\n",
        "    k = req.index(req[j])\n",
        "    j+=1\n",
        "  print(f\"Seek Time for SCAN is: {seek_time} ms\")"
      ]
    },
    {
      "cell_type": "markdown",
      "metadata": {},
      "source": [
        "# C-SCAN"
      ]
    },
    {
      "cell_type": "code",
      "execution_count": 4,
      "metadata": {},
      "outputs": [],
      "source": [
        "# If initial direction is given then move in that direction else check for nearest endpoint from headstart\n",
        "# the huge jump doesn't count as a head movement.\n",
        "def C_SCAN(req, head_start):\n",
        "  # Initialise seek time to 0\n",
        "  seek_time=0\n",
        "  # Append the head_start and sort the list in order to find nearest to headstart quickly.\n",
        "  req.append(head_start)\n",
        "  req.sort()\n",
        "  # Extra Points to add (0, 199)\n",
        "  req.insert(0, 0)\n",
        "  req.append(199)\n",
        "  print(req)\n",
        "  # i and j for iteration, k for current working process\n",
        "  k = req.index(head_start)\n",
        "  i = k-1\n",
        "  j = len(req)-2 #2nd last position\n",
        "  # Run the loop until i reaches the 0th index\n",
        "  while(i >= 0):\n",
        "    seek_time += abs(req[i] - req[k])\n",
        "    print(f\"Going for: ({req[i]} - {req[k]})\")\n",
        "    k = req.index(req[i])\n",
        "    i -= 1\n",
        "  # Once left iteration is completed shift k to last index of req and again iterate towards left\n",
        "  k = len(req)-1\n",
        "  while(j>req.index(head_start)):\n",
        "    seek_time += abs(req[j] - req[k])\n",
        "    print(f\"Going for: ({req[j]} - {req[k]})\")\n",
        "    k = req.index(req[j])\n",
        "    j-=1\n",
        "  print(f\"Seek Time for C SCAN is: {seek_time} ms\")"
      ]
    },
    {
      "cell_type": "markdown",
      "metadata": {},
      "source": [
        "# C-LOOK"
      ]
    },
    {
      "cell_type": "code",
      "execution_count": 5,
      "metadata": {},
      "outputs": [],
      "source": [
        "# If initial direction is given then move in that direction else check for nearest endpoint from headstart\n",
        "# the huge jump doesn't count as a head movement.\n",
        "def C_LOOK(req, head_start):\n",
        "  # Initialise seek time to 0\n",
        "  seek_time=0\n",
        "  # Append the head_start and sort the list in order to find nearest to headstart quickly.\n",
        "  req.append(head_start)\n",
        "  req.sort()\n",
        "  print(req)\n",
        "  # i and j for iteration, k for current working process\n",
        "  k = req.index(head_start)\n",
        "  i = k-1\n",
        "  j = len(req)-2 #2nd last position\n",
        "  # Run the loop until i reaches the 0th index\n",
        "  while(i >= 0):\n",
        "    seek_time += abs(req[i] - req[k])\n",
        "    print(f\"Going for: ({req[i]} - {req[k]})\")\n",
        "    k = req.index(req[i])\n",
        "    i -= 1\n",
        "  # Once left iteration is completed shift k to last index of req and again iterate towards left\n",
        "  k = len(req)-1\n",
        "  while(j>req.index(head_start)):\n",
        "    seek_time += abs(req[j] - req[k])\n",
        "    print(f\"Going for: ({req[j]} - {req[k]})\")\n",
        "    k = req.index(req[j])\n",
        "    j-=1\n",
        "  print(f\"Seek Time for C LOOK is: {seek_time} ms\")"
      ]
    },
    {
      "cell_type": "markdown",
      "metadata": {},
      "source": [
        "# INPUT"
      ]
    },
    {
      "cell_type": "code",
      "execution_count": 6,
      "metadata": {},
      "outputs": [
        {
          "name": "stdout",
          "output_type": "stream",
          "text": [
            "\n",
            "FCFS\n",
            "\n",
            "[50, 95, 180, 34, 119, 11, 123, 62, 64]\n",
            "Going for: (95 - 50)\n",
            "Going for: (180 - 95)\n",
            "Going for: (34 - 180)\n",
            "Going for: (119 - 34)\n",
            "Going for: (11 - 119)\n",
            "Going for: (123 - 11)\n",
            "Going for: (62 - 123)\n",
            "Going for: (64 - 62)\n",
            "Seek Time for FCFS is: 644 ms\n",
            "\n",
            "SSTF\n",
            "\n",
            "[11, 34, 50, 62, 64, 95, 119, 123, 180]\n",
            "Going for: (62 - 50)\n",
            "Going for: (64 - 62)\n",
            "Going for: (34 - 64)\n",
            "Going for: (11 - 34)\n",
            "Going for: (95 - 11)\n",
            "Going for: (119 - 95)\n",
            "Going for: (123 - 119)\n",
            "Going for: (180 - 123)\n",
            "Seek Time for SSTF is: 236 ms\n",
            "\n",
            "SCAN\n",
            "\n",
            "[0, 11, 34, 50, 62, 64, 95, 119, 123, 180]\n",
            "Going for: (34 - 50)\n",
            "Going for: (11 - 34)\n",
            "Going for: (0 - 11)\n",
            "Going for: (62 - 0)\n",
            "Going for: (64 - 62)\n",
            "Going for: (95 - 64)\n",
            "Going for: (119 - 95)\n",
            "Going for: (123 - 119)\n",
            "Going for: (180 - 123)\n",
            "Seek Time for SCAN is: 230 ms\n",
            "\n",
            "C-SCAN\n",
            "\n",
            "[0, 11, 34, 50, 62, 64, 95, 119, 123, 180, 199]\n",
            "Going for: (34 - 50)\n",
            "Going for: (11 - 34)\n",
            "Going for: (0 - 11)\n",
            "Going for: (180 - 199)\n",
            "Going for: (123 - 180)\n",
            "Going for: (119 - 123)\n",
            "Going for: (95 - 119)\n",
            "Going for: (64 - 95)\n",
            "Going for: (62 - 64)\n",
            "Seek Time for C SCAN is: 187 ms\n",
            "\n",
            "C-LOOK\n",
            "\n",
            "[11, 34, 50, 62, 64, 95, 119, 123, 180]\n",
            "Going for: (34 - 50)\n",
            "Going for: (11 - 34)\n",
            "Going for: (123 - 180)\n",
            "Going for: (119 - 123)\n",
            "Going for: (95 - 119)\n",
            "Going for: (64 - 95)\n",
            "Going for: (62 - 64)\n",
            "Seek Time for C LOOK is: 157 ms\n"
          ]
        }
      ],
      "source": [
        "for ch in range(1, 6):\n",
        "    if(ch == 1):\n",
        "        print(\"\\nFCFS\\n\")\n",
        "        req_string = [95, 180, 34, 119, 11, 123, 62, 64]\n",
        "        head_start = 50\n",
        "        FCFS(req_string, head_start)\n",
        "    elif(ch == 2):\n",
        "        print(\"\\nSSTF\\n\")\n",
        "        req_string = [95, 180, 34, 119, 11, 123, 62, 64]\n",
        "        head_start = 50\n",
        "        SSTF(req_string, head_start)\n",
        "    elif(ch == 3):\n",
        "        print(\"\\nSCAN\\n\")\n",
        "        req_string = [95, 180, 34, 119, 11, 123, 62, 64]\n",
        "        head_start = 50\n",
        "        SCAN(req_string, head_start)\n",
        "    elif(ch == 4):\n",
        "        print(\"\\nC-SCAN\\n\")\n",
        "        req_string = [95, 180, 34, 119, 11, 123, 62, 64]\n",
        "        head_start = 50\n",
        "        C_SCAN(req_string, head_start)\n",
        "    elif(ch == 5):\n",
        "        print(\"\\nC-LOOK\\n\")\n",
        "        req_string = [95, 180, 34, 119, 11, 123, 62, 64]\n",
        "        head_start = 50\n",
        "        C_LOOK(req_string, head_start)\n"
      ]
    }
  ],
  "metadata": {
    "colab": {
      "collapsed_sections": [],
      "name": "SF_Lab8.ipynb",
      "provenance": []
    },
    "interpreter": {
      "hash": "4224c07f2c26d2b181a3d230e7d21b307217e0bfdd4c548a04fa249d27ef3c76"
    },
    "kernelspec": {
      "display_name": "Python 3.9.7 ('base')",
      "language": "python",
      "name": "python3"
    },
    "language_info": {
      "codemirror_mode": {
        "name": "ipython",
        "version": 3
      },
      "file_extension": ".py",
      "mimetype": "text/x-python",
      "name": "python",
      "nbconvert_exporter": "python",
      "pygments_lexer": "ipython3",
      "version": "3.9.7"
    }
  },
  "nbformat": 4,
  "nbformat_minor": 0
}
