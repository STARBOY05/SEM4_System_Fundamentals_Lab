{
  "cells": [
    {
      "cell_type": "markdown",
      "metadata": {},
      "source": [
        "# NAME: ALISTAIR SALDANHA\n",
        "# SAPID: 60009200024\n",
        "# BATCH: K1\n",
        "# EXPERIMENT-6"
      ]
    },
    {
      "cell_type": "code",
      "execution_count": 29,
      "metadata": {},
      "outputs": [],
      "source": [
        "def FirstFit(frag_size, proc_size):\n",
        "\t# Initially allocate the memory with -1\n",
        "\toccupied_block = [-1] * len(proc_size)\n",
        "\t# Loop through each process size\n",
        "\tfor i in range(len(proc_size)):\n",
        "\t\t# Loop through each block size\n",
        "\t\tfor j in range(len(frag_size)):\n",
        "\t\t\t# The first space when frag_size > proc_size is encountered, occupy the space and break\n",
        "\t\t\tif frag_size[j] >= proc_size[i]:\n",
        "\t\t\t\toccupied_block[i] = j\n",
        "\t\t\t\tfrag_size[j] -= proc_size[i]\n",
        "\t\t\t\tbreak\n",
        "\t# Print the table\n",
        "\tprint(\"Process No\\tProcess Size\\tBlock no.\")\n",
        "\tfor i in range(len(proc_size)):\n",
        "\t\tprint(i + 1,\"\\t\\t\", proc_size[i],end = \"\\t\\t  \")\n",
        "\t\t# If the process is allocated print the block number\n",
        "\t\tif occupied_block[i] != -1:\n",
        "\t\t\tprint(occupied_block[i] + 1)\n",
        "\t\t# else print Not Allocated\n",
        "\t\telse:\n",
        "\t\t\tprint(\"Not Allocated\")"
      ]
    },
    {
      "cell_type": "code",
      "execution_count": 30,
      "metadata": {},
      "outputs": [],
      "source": [
        "def WorstFit(frag_size, proc_size):\n",
        "    # Initially allocate the memory with -1\n",
        "    occupied_block = [-1] * len(proc_size)\n",
        "    # Loop through each process size\n",
        "    for i in range(len(proc_size)):\n",
        "        # Initialise worst Index to -1 and loop through block size\n",
        "        wstIdx = -1\n",
        "        for j in range(len(frag_size)):\n",
        "            # if frag_size >= proc_size and\n",
        "            if frag_size[j] >= proc_size[i]:\n",
        "                # if worstIndex = -1 or frag_size[worstIndex] < frag_size[curr] then worstIndex=curr\n",
        "                if ((wstIdx == -1) or (frag_size[wstIdx] < frag_size[j])):\n",
        "                    wstIdx = j\n",
        "        if wstIdx != -1:\n",
        "            occupied_block[i] = wstIdx\n",
        "            frag_size[wstIdx] -= proc_size[i]\n",
        "    # Print the table\n",
        "    print(\"Process No\\tProcess Size\\tBlock no.\")\n",
        "    for i in range(len(proc_size)):\n",
        "        print(i + 1, \"\\t\\t\", proc_size[i], end=\"\\t\\t  \")\n",
        "        # If the process is allocated print the block number\n",
        "        if occupied_block[i] != -1:\n",
        "            print(occupied_block[i] + 1)\n",
        "        # else print Not Allocated\n",
        "        else:\n",
        "            print(\"Not Allocated\")"
      ]
    },
    {
      "cell_type": "code",
      "execution_count": 31,
      "metadata": {},
      "outputs": [],
      "source": [
        "def BestFit(frag_size, proc_size):\n",
        "\toccupied_block = [-1] * len(proc_size)\n",
        "\tfor i in range(len(proc_size)):\n",
        "\t\tbestIdx = -1\n",
        "\t\tfor j in range(len(frag_size)):\n",
        "\t\t\tif frag_size[j] >= proc_size[i]:\n",
        "\t\t\t\tif bestIdx == -1:\n",
        "\t\t\t\t\tbestIdx = j\n",
        "\t\t\t\telif frag_size[bestIdx] > frag_size[j]:\n",
        "\t\t\t\t\tbestIdx = j\n",
        "\t\tif bestIdx != -1:\n",
        "\t\t\toccupied_block[i] = bestIdx\n",
        "\t\t\tfrag_size[bestIdx] -= proc_size[i]\n",
        "\t# Print the table\n",
        "\tprint(\"Process No\\tProcess Size\\tBlock no.\")\n",
        "\tfor i in range(len(proc_size)):\n",
        "\t\tprint(i + 1,\"\\t\\t\", proc_size[i],end = \"\\t\\t  \")\n",
        "\t\t# If the process is allocated print the block number\n",
        "\t\tif occupied_block[i] != -1:\n",
        "\t\t\tprint(occupied_block[i] + 1)\n",
        "\t\t# else print Not Allocated\n",
        "\t\telse:\n",
        "\t\t\tprint(\"Not Allocated\")"
      ]
    },
    {
      "cell_type": "code",
      "execution_count": 32,
      "metadata": {},
      "outputs": [
        {
          "name": "stdout",
          "output_type": "stream",
          "text": [
            "----------FIRSTFIT----------\n",
            "Process No\tProcess Size\tBlock no.\n",
            "1 \t\t 212\t\t  2\n",
            "2 \t\t 417\t\t  5\n",
            "3 \t\t 112\t\t  2\n",
            "4 \t\t 426\t\t  Not Allocated\n",
            "----------BESTFIT----------\n",
            "Process No\tProcess Size\tBlock no.\n",
            "1 \t\t 212\t\t  4\n",
            "2 \t\t 417\t\t  2\n",
            "3 \t\t 112\t\t  3\n",
            "4 \t\t 426\t\t  5\n",
            "----------WORSTFIT----------\n",
            "Process No\tProcess Size\tBlock no.\n",
            "1 \t\t 212\t\t  5\n",
            "2 \t\t 417\t\t  2\n",
            "3 \t\t 112\t\t  5\n",
            "4 \t\t 426\t\t  Not Allocated\n"
          ]
        }
      ],
      "source": [
        "for _ in range(1,4):\n",
        "    frag_size = [100, 500, 200, 300, 600]\n",
        "    proc_size = [212, 417, 112, 426]\n",
        "    choice = int(input(\"Enter 1 for First Fit, 2 for Best Fit, 3 for Worst Fit: \"))\n",
        "    if(choice==1):\n",
        "        print(\"----------FIRSTFIT----------\")\n",
        "        FirstFit(frag_size, proc_size)\n",
        "    elif(choice==2):\n",
        "        print(\"----------BESTFIT----------\")\n",
        "        BestFit(frag_size, proc_size)\n",
        "    elif(choice==3):\n",
        "        print(\"----------WORSTFIT----------\")\n",
        "        WorstFit(frag_size, proc_size)\n",
        "    "
      ]
    }
  ],
  "metadata": {
    "colab": {
      "collapsed_sections": [],
      "name": "SF_Lab06_100502.ipynb",
      "provenance": []
    },
    "interpreter": {
      "hash": "4224c07f2c26d2b181a3d230e7d21b307217e0bfdd4c548a04fa249d27ef3c76"
    },
    "kernelspec": {
      "display_name": "Python 3.9.7 ('base')",
      "language": "python",
      "name": "python3"
    },
    "language_info": {
      "codemirror_mode": {
        "name": "ipython",
        "version": 3
      },
      "file_extension": ".py",
      "mimetype": "text/x-python",
      "name": "python",
      "nbconvert_exporter": "python",
      "pygments_lexer": "ipython3",
      "version": "3.9.7"
    }
  },
  "nbformat": 4,
  "nbformat_minor": 0
}
