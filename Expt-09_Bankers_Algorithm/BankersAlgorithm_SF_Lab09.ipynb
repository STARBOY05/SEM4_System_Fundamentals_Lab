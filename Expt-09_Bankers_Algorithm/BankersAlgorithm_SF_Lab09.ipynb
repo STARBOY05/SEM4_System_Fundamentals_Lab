{
  "cells": [
    {
      "cell_type": "markdown",
      "metadata": {},
      "source": [
        "# NAME: ALISTAIR SALDANHA\n",
        "# SAPID: 60009200024\n",
        "# BATCH: K1\n",
        "# EXPERIMENT-9"
      ]
    },
    {
      "cell_type": "code",
      "execution_count": 30,
      "metadata": {
        "colab": {
          "base_uri": "https://localhost:8080/"
        },
        "id": "Mo3XGsK6iMAs",
        "outputId": "671b0b49-a83b-4c79-c295-41d0904b99e7"
      },
      "outputs": [
        {
          "name": "stdout",
          "output_type": "stream",
          "text": [
            "[1 0 0 0 0]\n",
            "[1 3 0 0 0]\n",
            "[1 3 4 0 0]\n",
            "[1 3 4 0 0]\n",
            "[1 3 4 0 2]\n",
            "The system is Safe\n",
            "Safe Sequence:  [1 3 4 0 2]\n",
            "Available Resource: [10  5  7]\n"
          ]
        }
      ],
      "source": [
        "import numpy as np\n",
        "# To check available >= need\n",
        "def availability(i):\n",
        "    for j in range(no_r):\n",
        "        if(needed[i][j]>available[j]):\n",
        "            return 0\n",
        "    return 1\n",
        "\n",
        "# MAIN FUNCTION\n",
        "no_p = 5\n",
        "no_r = 3\n",
        "# Sequence stores the processes after execution\n",
        "Sequence = np.zeros((no_p,),dtype=int)\n",
        "# Visited stores if process of executed successfully\n",
        "visited = np.zeros((no_p,),dtype=int)\n",
        "# Given in the Problem\n",
        "allocated = np.array([[0, 1, 0 ], [2, 0, 0], [3, 0, 2], [2, 1, 1] , [0, 0, 2]])\n",
        "maximum = np.array([[7, 5, 3 ], [3, 2, 2 ], [ 9, 0, 2 ], [2, 2, 2], [4, 3, 3]])\n",
        "available = np.array([3, 3, 2])\n",
        "needed = maximum - allocated\n",
        "# count - number of processes executed successfully\n",
        "count = 0\n",
        "while(count < no_p) :\n",
        "    temp=0\n",
        "    for i in range( no_p ):\n",
        "        if( visited[i] == 0 ):\n",
        "            if(availability(i)):\n",
        "                Sequence[count]=i;\n",
        "                print(Sequence)\n",
        "                count+=1\n",
        "                visited[i]=1\n",
        "                temp=1\n",
        "                for j in range(no_r):\n",
        "                    available[j] += allocated[i][j]\n",
        "    # Process is neither visited nor the resources available for its execution\n",
        "    if(temp == 0):\n",
        "        break\n",
        "if(count < no_p):\n",
        "    print('The system is Unsafe')\n",
        "else:\n",
        "    print(\"The system is Safe\")\n",
        "    print(\"Safe Sequence: \",Sequence)\n",
        "    print(\"Available Resource:\",available)"
      ]
    },
    {
      "cell_type": "code",
      "execution_count": 31,
      "metadata": {},
      "outputs": [
        {
          "name": "stdout",
          "output_type": "stream",
          "text": [
            "The system is Safe\n",
            "Safe Sequence:  [2 0 1]\n",
            "Available Resource: [10  7  7]\n"
          ]
        }
      ],
      "source": [
        "import numpy as np\n",
        "# To check available >= need\n",
        "def availability(i):\n",
        "    for j in range(no_r):\n",
        "        if(needed[i][j]>available[j]):\n",
        "            return 0\n",
        "    return 1\n",
        "\n",
        "# MAIN FUNCTION\n",
        "no_p = 3\n",
        "no_r = 3\n",
        "# Sequence stores the processes after execution\n",
        "Sequence = np.zeros((no_p,),dtype=int)\n",
        "# Visited stores if process of executed successfully\n",
        "visited = np.zeros((no_p,),dtype=int)\n",
        "# Given in the Problem\n",
        "allocated = np.array([[3,2,1], [1,1,2], [4,1,2]])\n",
        "maximum = np.array([[4,4,4], [3, 4, 5], [5, 2, 4]])\n",
        "available = np.array([2, 3, 2])\n",
        "needed = maximum - allocated\n",
        "# count - number of processes executed successfully\n",
        "count = 0\n",
        "while(count < no_p) :\n",
        "    temp=0\n",
        "    for i in range( no_p ):\n",
        "        if( visited[i] == 0 ):\n",
        "            if(availability(i)):\n",
        "                Sequence[count]=i;\n",
        "                count+=1\n",
        "                visited[i]=1\n",
        "                temp=1\n",
        "                for j in range(no_r):\n",
        "                    available[j] += allocated[i][j]\n",
        "    # Process is neither visited nor the resources available for its execution\n",
        "    if(temp == 0):\n",
        "        break\n",
        "if(count < no_p):\n",
        "    print('The system is Unsafe')\n",
        "else:\n",
        "    print(\"The system is Safe\")\n",
        "    print(\"Safe Sequence: \",Sequence)\n",
        "    print(\"Available Resource:\",available)"
      ]
    }
  ],
  "metadata": {
    "colab": {
      "collapsed_sections": [],
      "name": "BankersAlgorithm_SF_Lab09.ipynb",
      "provenance": []
    },
    "interpreter": {
      "hash": "4224c07f2c26d2b181a3d230e7d21b307217e0bfdd4c548a04fa249d27ef3c76"
    },
    "kernelspec": {
      "display_name": "Python 3.9.7 ('base')",
      "language": "python",
      "name": "python3"
    },
    "language_info": {
      "codemirror_mode": {
        "name": "ipython",
        "version": 3
      },
      "file_extension": ".py",
      "mimetype": "text/x-python",
      "name": "python",
      "nbconvert_exporter": "python",
      "pygments_lexer": "ipython3",
      "version": "3.9.7"
    }
  },
  "nbformat": 4,
  "nbformat_minor": 0
}
