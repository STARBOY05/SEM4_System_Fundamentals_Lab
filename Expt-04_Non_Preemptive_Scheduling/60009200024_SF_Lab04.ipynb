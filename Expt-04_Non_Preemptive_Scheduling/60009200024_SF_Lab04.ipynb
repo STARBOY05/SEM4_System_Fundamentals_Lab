{
 "cells": [
  {
   "cell_type": "markdown",
   "metadata": {},
   "source": [
    "# NAME: ALISTAIR SALDANHA\n",
    "# SAPID: 60009200024\n",
    "# BATCH: K1\n",
    "# EXPERIMENT-4"
   ]
  },
  {
   "cell_type": "markdown",
   "metadata": {},
   "source": [
    "### FIRST COME FIRST SERVE (FCFS)"
   ]
  },
  {
   "cell_type": "code",
   "execution_count": 38,
   "metadata": {},
   "outputs": [],
   "source": [
    "from prettytable import PrettyTable\n",
    "x = PrettyTable()"
   ]
  },
  {
   "cell_type": "markdown",
   "metadata": {},
   "source": [
    "## INPUT"
   ]
  },
  {
   "cell_type": "code",
   "execution_count": 39,
   "metadata": {},
   "outputs": [
    {
     "name": "stdout",
     "output_type": "stream",
     "text": [
      "{'P1': [3, 4], 'P2': [5, 3], 'P3': [0, 2], 'P4': [5, 1], 'P5': [4, 3]}\n",
      "[('P3', [0, 2]), ('P1', [3, 4]), ('P5', [4, 3]), ('P2', [5, 3]), ('P4', [5, 1])]\n"
     ]
    }
   ],
   "source": [
    "nop= int(input(\"Enter number of processes: \"))\n",
    "processes = {}\n",
    " \n",
    "for i in range(nop):\n",
    "    a = int(input(f\"Enter the arrival time for process P{i+1}: \"))\n",
    "    b = int(input(f\"Enter the burst time for process P{i+1}: \"))\n",
    "    lst = []\n",
    "    lst.append(a)\n",
    "    lst.append(b)\n",
    "    processes[f'P{i+1}'] = lst\n",
    "print(processes)\n",
    "# SORTING ACCORDING TO THEIR ARRIVAL TIME\n",
    "processes = sorted(processes.items(), key=lambda x: x[1][0])\n",
    "print(processes)\n"
   ]
  },
  {
   "cell_type": "markdown",
   "metadata": {},
   "source": [
    "## GANTT CHART"
   ]
  },
  {
   "cell_type": "code",
   "execution_count": 40,
   "metadata": {},
   "outputs": [
    {
     "name": "stdout",
     "output_type": "stream",
     "text": [
      "[2, 6, 9, 12, 13]\n",
      "Gantt Chart\n",
      "\n",
      "0->P3->2->P1->6->P5->9->P2->12->P4->13"
     ]
    }
   ],
   "source": [
    "def gantt_c(processes):\n",
    "    g_c = []\n",
    "    for i in range(len(processes)):\n",
    "        if(i==0):\n",
    "            g_c.append(processes[i][1][1])\n",
    "        else:\n",
    "            g_c.append(g_c[i-1] + processes[i][1][1])\n",
    "    return g_c\n",
    "\n",
    "def display_gc(g_c,processes):\n",
    "    print(\"Gantt Chart\\n\")\n",
    "    for i in range(len(g_c)+1):\n",
    "        if(i==0):\n",
    "            print(f\"0->{processes[i][0]}->{g_c[i]}->\",end=\"\")\n",
    "        else:\n",
    "            print(f\"{processes[i][0]}->{g_c[i]}\",end=\"\")\n",
    "            if(i < len(g_c)-1):  print(\"->\",end=\"\")\n",
    "            else:   break\n",
    "\n",
    "gantt_chart = gantt_c(processes)\n",
    "print(gantt_chart)\n",
    "display_gc(gantt_chart,processes)"
   ]
  },
  {
   "cell_type": "markdown",
   "metadata": {},
   "source": [
    "## CALCULATING TURN AROUND TIME & WAITING TIME\n",
    "\n",
    "TURN AROUND TIME = COMPLETION TIME - ARRIVAL TIME\n",
    "\n",
    "WAITING TIME = TURN AROUND TIME - BURST TIME"
   ]
  },
  {
   "cell_type": "code",
   "execution_count": 41,
   "metadata": {},
   "outputs": [],
   "source": [
    "def calc_TAT(gantt_chart,processes):\n",
    "    TAT = []\n",
    "    for i in range(len(processes)):\n",
    "        TAT.append(gantt_chart[i] - processes[i][1][0]) #completion=gantt_chart[i] , arrival=processes[i][1][0]\n",
    "    return TAT\n",
    "TAT = calc_TAT(gantt_chart, processes)\n",
    "# print(\"TAT :\",TAT)\n",
    "\n",
    "def calc_WT(TAT,processes):\n",
    "    WT = []\n",
    "    for i in range(len(processes)):\n",
    "        WT.append(TAT[i] - processes[i][1][1]) #burst=processes[i][1][1]\n",
    "    return WT\n",
    "WT = calc_WT(TAT,processes)\n",
    "# print(\"WT :\",WT)\n",
    "\n",
    "def avg_WT(WT):\n",
    "    avg_WT = 0.0\n",
    "    for i in range(len(WT)):\n",
    "        avg_WT += WT[i]\n",
    "    avg_WT = (avg_WT/nop)\n",
    "    return avg_WT\n",
    "average_WT = avg_WT(WT)\n",
    "\n",
    "def avg_TAT(TAT):\n",
    "    avg_TAT = 0.0\n",
    "    for i in range(len(TAT)):\n",
    "        avg_TAT += TAT[i]\n",
    "    avg_TAT = (avg_TAT/nop)\n",
    "    return avg_TAT\n",
    "average_TAT = avg_TAT(TAT)"
   ]
  },
  {
   "cell_type": "code",
   "execution_count": 42,
   "metadata": {},
   "outputs": [
    {
     "name": "stdout",
     "output_type": "stream",
     "text": [
      "+---------+----+----+----+-----+----+\n",
      "| Process | AT | BT | FT | TAT | WT |\n",
      "+---------+----+----+----+-----+----+\n",
      "|    P1   | 0  | 2  | 2  |  2  | 0  |\n",
      "|    P2   | 3  | 4  | 6  |  3  | -1 |\n",
      "|    P3   | 4  | 3  | 9  |  5  | 2  |\n",
      "|    P4   | 5  | 3  | 12 |  7  | 4  |\n",
      "|    P5   | 5  | 1  | 13 |  8  | 7  |\n",
      "+---------+----+----+----+-----+----+\n",
      "Average Waiting Time: 2.4 , Average Turn Around Time : 5.0\n"
     ]
    }
   ],
   "source": [
    "def table(processes,WT,TAT):\n",
    "    x.field_names = [\"Process\",\"AT\",\"BT\",\"FT\",\"TAT\",\"WT\"]\n",
    "    for i in range(len(processes)):\n",
    "        x.add_row([f\"P{i+1}\",processes[i][1][0],processes[i][1][1],gantt_chart[i],TAT[i],WT[i]])\n",
    "    print(x)\n",
    "\n",
    "table(processes,WT,TAT) \n",
    "print(f\"Average Waiting Time: {average_WT} , Average Turn Around Time : {average_TAT}\")"
   ]
  },
  {
   "cell_type": "markdown",
   "metadata": {},
   "source": [
    "FOUND BUG \n",
    "\n",
    "WHAT IF ENDING TIME OF Pi is 5 and ARRIVAL TIME OF Pi+1 is 6 what will happen between 5 & 6"
   ]
  }
 ],
 "metadata": {
  "interpreter": {
   "hash": "533bec12f1e9e14f9a2afc6f958ed4215feda175bf8bda0ed1201cd5e2ec9823"
  },
  "kernelspec": {
   "display_name": "Python 3.9.7 ('base')",
   "language": "python",
   "name": "python3"
  },
  "language_info": {
   "codemirror_mode": {
    "name": "ipython",
    "version": 3
   },
   "file_extension": ".py",
   "mimetype": "text/x-python",
   "name": "python",
   "nbconvert_exporter": "python",
   "pygments_lexer": "ipython3",
   "version": "3.9.7"
  },
  "orig_nbformat": 4
 },
 "nbformat": 4,
 "nbformat_minor": 2
}
