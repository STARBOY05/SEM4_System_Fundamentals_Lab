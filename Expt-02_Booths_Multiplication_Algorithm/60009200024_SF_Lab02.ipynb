{
 "cells": [
  {
   "cell_type": "markdown",
   "metadata": {},
   "source": [
    "BOOTH'S ALGORITHM"
   ]
  },
  {
   "cell_type": "markdown",
   "metadata": {},
   "source": [
    "Take the input"
   ]
  },
  {
   "cell_type": "code",
   "execution_count": 32,
   "metadata": {},
   "outputs": [],
   "source": [
    "# def get_input():\n",
    "#     m = int(input(\"Enter the multiplicand: \"))\n",
    "#     q = int(input(\"Enter the multiplier: \"))\n",
    "#     return m,q\n",
    "# m, q = get_input()\n",
    "m = -9 # Multiplicand\n",
    "q = 7  # Multiplier\n",
    "n = 5  # Number of bits"
   ]
  },
  {
   "cell_type": "code",
   "execution_count": 33,
   "metadata": {},
   "outputs": [],
   "source": [
    "def to_binary(num):\n",
    "  if(num >= 0):\n",
    "    return(bin(num)[2:].zfill(n)) #[2:] - to remove 0b\n",
    "  elif(num < 0):\n",
    "    return (bin(abs(num))[2:].zfill(n))\n",
    "# print(to_binary(9))\n",
    "# print(to_binary(-2))"
   ]
  },
  {
   "cell_type": "code",
   "execution_count": 34,
   "metadata": {},
   "outputs": [],
   "source": [
    "def add(x1, x2, n):\n",
    "  result = ''\n",
    "  carry = 0\n",
    "  for i in range(n - 1, -1, -1):\n",
    "      carry += 1 if x1[i] == '1' else 0\n",
    "      carry += 1 if x2[i] == '1' else 0\n",
    "      result = ('1' if carry % 2 == 1 else '0') + result\n",
    "      carry = 0 if carry < 2 else 1\n",
    "  return(result.zfill(n))\n",
    "# add('0010','1010',4)"
   ]
  },
  {
   "cell_type": "code",
   "execution_count": 35,
   "metadata": {},
   "outputs": [
    {
     "name": "stdout",
     "output_type": "stream",
     "text": [
      "01011\n"
     ]
    }
   ],
   "source": [
    "def twos_comp(num,n):\n",
    "  x = ''\n",
    "  one_add = '0'*(n-1)+'1' # 0001\n",
    "  one_c = list(map(lambda x: '0' if x=='1' else '1',num)) # 0111 --> 1000\n",
    "  # print(one_c)\n",
    "  for i in one_c:\n",
    "    x += i \n",
    "  two_c = add(x,one_add,n)\n",
    "  return two_c\n",
    "print(twos_comp('10101',n))"
   ]
  },
  {
   "cell_type": "code",
   "execution_count": 36,
   "metadata": {},
   "outputs": [],
   "source": [
    "def ashr(bits):\n",
    "    msb = bits[0]\n",
    "    shift_bits = bin(int(('0b' + bits),2) >> 1)[2:]\n",
    "    if(msb == '0'):\n",
    "        bits = shift_bits.zfill(2*n+1)\n",
    "    else:\n",
    "        bits = msb + shift_bits\n",
    "    return bits   \n",
    "# print(ashr('001110011'))\n",
    "# print(ashr('101110011'))"
   ]
  },
  {
   "cell_type": "code",
   "execution_count": 37,
   "metadata": {},
   "outputs": [],
   "source": [
    "def table(bits,count,oper,n):\n",
    "    A = bits[0:n]\n",
    "    q_bin = bits[n:2*n]\n",
    "    q_minus_1 = bits[2*n]\n",
    "    print(f'  {count}     {A}   {q_bin}      {q_minus_1}      {oper}')"
   ]
  },
  {
   "cell_type": "markdown",
   "metadata": {},
   "source": [
    "BOOTH'S ALGORITHM\n",
    "\n",
    "![](BoothAlgo.jpg)"
   ]
  },
  {
   "cell_type": "code",
   "execution_count": 38,
   "metadata": {},
   "outputs": [],
   "source": [
    "def Booth_Algo(bits,count,n):\n",
    "    A = bits[:n]\n",
    "    q_bin = bits[n:2*n]\n",
    "    q_minus_1 = bits[2*n]\n",
    "    if(bits[-2] == '1' and bits[-1] == '0'):\n",
    "        A = add(A,minus_M,n)\n",
    "        bits = A + q_bin + q_minus_1\n",
    "        table(bits,count,'A = A - M',n)\n",
    "        bits = ashr(bits)\n",
    "        count -= 1\n",
    "        table(bits,count,'Shift Right',n)\n",
    "    elif(bits[-2] == '0' and bits[-1] == '1'):\n",
    "        A = add(A,plus_M,n)\n",
    "        bits = A + q_bin + q_minus_1\n",
    "        table(bits,count,'A = A + M',n)\n",
    "        bits = ashr(bits)\n",
    "        count -= 1\n",
    "        table(bits,count,'Shift Right',n)\n",
    "    elif(bits[-2] == '0' and bits[-1] == '0'):\n",
    "        bits = ashr(bits)\n",
    "        count -= 1\n",
    "        table(bits,count,'Shift Right',n)\n",
    "    elif(bits[-2] == '1' and bits[-1] == '1'):\n",
    "        bits = ashr(bits)\n",
    "        count -= 1\n",
    "        table(bits,count,'Shift Right',n)\n",
    "    if(count != 0):\n",
    "        Booth_Algo(bits,count,n)\n",
    "    else:\n",
    "        A = bits[0:n]\n",
    "        q_bin = bits[n:2*n]\n",
    "        print(f'A : {A} , q : {q_bin}')\n",
    "        x = A + q_bin\n",
    "        if((m>0 and q>0) or (m<0 and q<0)):\n",
    "            result = int(('0b' + x),2)\n",
    "            print(f\"Product of {m} and {q} is {result}\")        \n",
    "        elif(m<0 or q<0):\n",
    "            result = int(('0b' + twos_comp(x,2*n)),2)\n",
    "            print(f\"Product of {m} and {q} is {-result}\")"
   ]
  },
  {
   "cell_type": "code",
   "execution_count": 39,
   "metadata": {},
   "outputs": [
    {
     "name": "stdout",
     "output_type": "stream",
     "text": [
      "count     A       q   q_minus_1   Operation\n",
      "  5     00000   00111      0      Initialisation\n",
      "  5     01001   00111      0      A = A - M\n",
      "  4     00100   10011      1      Shift Right\n",
      "  3     00010   01001      1      Shift Right\n",
      "  2     00001   00100      1      Shift Right\n",
      "  2     11000   00100      1      A = A + M\n",
      "  1     11100   00010      0      Shift Right\n",
      "  0     11110   00001      0      Shift Right\n",
      "A : 11110 , q : 00001\n",
      "Product of -9 and 7 is -63\n"
     ]
    }
   ],
   "source": [
    "if(m>=0 and q>=0):\n",
    "    plus_M = to_binary(m)\n",
    "    minus_M = twos_comp(plus_M,n)\n",
    "    q_bin = to_binary(q)\n",
    "elif(m<=0 and q>=0):\n",
    "    plus_M = twos_comp(to_binary(m),n)\n",
    "    minus_M = to_binary(m)\n",
    "    q_bin = to_binary(q)   \n",
    "elif(m>=0 and q<=0):\n",
    "    plus_M = to_binary(m)\n",
    "    minus_M = twos_comp(plus_M,n)\n",
    "    q_bin = twos_comp(to_binary(q),n)\n",
    "elif(m<=0 and q<=0):\n",
    "    plus_M = twos_comp(to_binary(m),n)\n",
    "    minus_M = to_binary(m)\n",
    "    q_bin = twos_comp(to_binary(q),n)  \n",
    "\n",
    "q_minus_1 = '0'\n",
    "A = '0'*n\n",
    "count=n\n",
    "\n",
    "# Trace the table\n",
    "print('count  ','  A  ','    q  ','q_minus_1','  Operation')\n",
    "\n",
    "# INITIALISATION\n",
    "bits = A + q_bin + q_minus_1\n",
    "table(bits,count,'Initialisation',n)\n",
    "Booth_Algo(bits,count,n)"
   ]
  }
 ],
 "metadata": {
  "interpreter": {
   "hash": "4224c07f2c26d2b181a3d230e7d21b307217e0bfdd4c548a04fa249d27ef3c76"
  },
  "kernelspec": {
   "display_name": "Python 3.9.7 ('base')",
   "language": "python",
   "name": "python3"
  },
  "language_info": {
   "codemirror_mode": {
    "name": "ipython",
    "version": 3
   },
   "file_extension": ".py",
   "mimetype": "text/x-python",
   "name": "python",
   "nbconvert_exporter": "python",
   "pygments_lexer": "ipython3",
   "version": "3.9.7"
  },
  "orig_nbformat": 4
 },
 "nbformat": 4,
 "nbformat_minor": 2
}
